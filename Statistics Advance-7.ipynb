{
 "cells": [
  {
   "cell_type": "markdown",
   "id": "633fc1da-afe5-411a-b4ea-69c441fd0a12",
   "metadata": {},
   "source": [
    "## Q1. Write a Python function that takes in two arrays of data and calculates the F-value for a variance ratio test. The function should return the F-value and the corresponding p-value for the test.\n"
   ]
  },
  {
   "cell_type": "code",
   "execution_count": 10,
   "id": "94ccf878-85b1-4f2a-be98-ab9fb4c064b3",
   "metadata": {},
   "outputs": [
    {
     "name": "stdout",
     "output_type": "stream",
     "text": [
      "Corrosponding f_value: 1.26984126984127\n",
      "Corrosponding critical value: 3.5805803197614603\n"
     ]
    },
    {
     "data": {
      "text/plain": [
       "(None, None)"
      ]
     },
     "execution_count": 10,
     "metadata": {},
     "output_type": "execute_result"
    }
   ],
   "source": [
    "import numpy as np\n",
    "import scipy.stats as stats\n",
    "\n",
    "def f_p_value(arr1, arr2, significance_value):\n",
    "    \n",
    "    dof1 = len(arr1)\n",
    "    dof2 = len(arr2)\n",
    "    confidence_level = 1 - significance_value\n",
    "    \n",
    "    f_value = np.var(arr1)/np.var(arr2)\n",
    "    \n",
    "    critical_value = stats.f.ppf(q = confidence_level, dfn = dof1, dfd = dof2)\n",
    "    \n",
    "    return print(f\"Corrosponding f_value: {f_value}\"), print(f\"Corrosponding critical value: {critical_value}\")\n",
    "\n",
    "arr1 = [30, 40, 38, 41, 38, 35]\n",
    "arr2 = [39, 38, 41, 33, 32, 39, 40, 34]\n",
    "significence_value = 0.05\n",
    "\n",
    "f_p_value(arr1, arr2, significence_value)"
   ]
  },
  {
   "cell_type": "markdown",
   "id": "25a0b3a8-bb79-49d9-a88c-a80e6a458dd9",
   "metadata": {},
   "source": [
    "## Q2. Given a significance level of 0.05 and the degrees of freedom for the numerator and denominator of an F-distribution, write a Python function that returns the critical F-value for a two-tailed test.\n"
   ]
  },
  {
   "cell_type": "code",
   "execution_count": 11,
   "id": "44fd7a6d-f66b-4d94-aff4-7b4b106eeff9",
   "metadata": {},
   "outputs": [
    {
     "name": "stdout",
     "output_type": "stream",
     "text": [
      "The Corrosponding Critical Value: 3.5831908480018124\n"
     ]
    }
   ],
   "source": [
    "import scipy.stats as stats\n",
    "import numpy as np\n",
    "\n",
    "\n",
    "def F_value(significance_level, df1, df2):\n",
    "    critical_value = stats.f.ppf(q = (1- significance_level/2), dfn = df1 , dfd = df2 )\n",
    "    \n",
    "    return print(f\"The Corrosponding Critical Value: {critical_value}\")\n",
    "\n",
    "significance_level = 0.05\n",
    "df1 = 13\n",
    "df2 = 10\n",
    "\n",
    "F_value(significance_level, df1, df2)"
   ]
  },
  {
   "cell_type": "markdown",
   "id": "4de03cfb-410f-4299-8c69-6311b0da8ee4",
   "metadata": {},
   "source": [
    "## Q3. Write a Python program that generates random samples from two normal distributions with known variances and uses an F-test to determine if the variances are equal. The program should output the F-value, degrees of freedom, and p-value for the test.\n"
   ]
  },
  {
   "cell_type": "code",
   "execution_count": 12,
   "id": "25d67bdd-fb73-422f-af15-5e86148673e5",
   "metadata": {},
   "outputs": [
    {
     "name": "stdout",
     "output_type": "stream",
     "text": [
      "Reject the Null Hypothesis\n",
      "Drgree of freedom of sample 1: 9999 Drgree of freedom of sample 2: 8999\n",
      "Drgree of freedom of sample 2: 8999\n",
      "F Value is: 1.6\n",
      "Critival Value is: 3.5831908480018124\n"
     ]
    },
    {
     "data": {
      "text/plain": [
       "(None, None, None, None)"
      ]
     },
     "execution_count": 12,
     "metadata": {},
     "output_type": "execute_result"
    }
   ],
   "source": [
    "import matplotlib.pyplot as plt\n",
    "import seaborn as sns\n",
    "import scipy.stats as stats\n",
    "\n",
    "def f_test_results(var1, var2, siginificance_level):\n",
    "    \n",
    "    sample_1 = np.random.normal(loc = 90, scale = np.sqrt(var1), size = 10000)\n",
    "    sample_2 = np.random.normal(loc = 80, scale = np.sqrt(var2), size = 9000)\n",
    "    \n",
    "    dof1 = len(sample_1) - 1\n",
    "    dof2 = len(sample_2) - 1\n",
    "    \n",
    "    # H0: Variance are not equal.\n",
    "    # H1: Variance are equal.\n",
    "    \n",
    "    f_value = var1/var2\n",
    "\n",
    "    critical_value = stats.f.ppf(q = 1-siginificance_level/2, dfn = df1, dfd = df2)\n",
    "    \n",
    "    if f_value > siginificance_level:\n",
    "        print('Reject the Null Hypothesis')\n",
    "    else:\n",
    "        print('Fail to reject Null Hypothesis')\n",
    "        \n",
    "    return print(f\"Drgree of freedom of sample 1: {dof1}\", f\"Drgree of freedom of sample 2: {dof2}\"), print(f\"Drgree of freedom of sample 2: {dof2}\"), print(f\"F Value is: {f_value}\"),print(f\"Critival Value is: {critical_value}\")\n",
    "    \n",
    "        \n",
    "f_test_results(2, 1.25, 0.05)"
   ]
  },
  {
   "cell_type": "markdown",
   "id": "6e920795-6f24-487a-bf62-e53c16950c85",
   "metadata": {},
   "source": [
    "## Q4.The variances of two populations are known to be 10 and 15. A sample of 12 observations is taken from each population. Conduct an F-test at the 5% ignificance level to determine if the variances are significantly different.)"
   ]
  },
  {
   "cell_type": "code",
   "execution_count": 13,
   "id": "062dbac3-0ddb-4b57-8037-6863bcb5958e",
   "metadata": {},
   "outputs": [
    {
     "name": "stdout",
     "output_type": "stream",
     "text": [
      "Fail to reject null hypothesis\n"
     ]
    }
   ],
   "source": [
    "import scipy.stats as stats\n",
    "\n",
    "var1 =10\n",
    "var2 = 15\n",
    "\n",
    "sample_size = 12\n",
    "\n",
    "dof1 = sample_size - 1\n",
    "dof2 = sample_size - 1\n",
    "\n",
    "significance_level = 0.05\n",
    "\n",
    "# H0: Variance are equal\n",
    "# H1: Variance are not equal\n",
    "f_value = var1/var2\n",
    "\n",
    "critical_value = stats.f.ppf(q = (1-significance_level/2), dfn = dof1, dfd = dof2)\n",
    "\n",
    "if f_value > critical_value:\n",
    "    print('Reject Null Hupothesis')\n",
    "else:\n",
    "    print('Fail to reject null hypothesis')"
   ]
  },
  {
   "cell_type": "markdown",
   "id": "bb35c634-e454-476b-9690-aa494f07e490",
   "metadata": {},
   "source": [
    "## Q5. A manufacturer claims that the variance of the diameter of a certain product is 0.005. A sample of 25 products is taken, and the sample variance is found to be 0.006. Conduct an F-test at the 1% significance level to determine if the claim is justified.\n"
   ]
  },
  {
   "cell_type": "code",
   "execution_count": 14,
   "id": "5b54a1f1-11fd-4e7c-b97d-b8612a6fc843",
   "metadata": {},
   "outputs": [
    {
     "name": "stdout",
     "output_type": "stream",
     "text": [
      "P Value: 0.3272868812797852\n",
      "Fail to reject null hypothesis\n"
     ]
    }
   ],
   "source": [
    "significance_level = 0.01\n",
    "sample_size = 25\n",
    "sample_var = 0.006\n",
    "population_var = 0.005\n",
    "\n",
    "dfn = sample_size - 1\n",
    "\n",
    "\n",
    "p_value = 2 * min(stats.f.cdf(f_value, dfn, dfn), (1 - stats.f.cdf(f_value, dfn, dfn)))\n",
    "\n",
    "print(f\"P Value: {p_value}\")\n",
    "\n",
    "if significance_level > p_value:\n",
    "    print('Reject Null Hupothesis')\n",
    "else:\n",
    "    print('Fail to reject null hypothesis')"
   ]
  },
  {
   "cell_type": "markdown",
   "id": "4ed7d206-6c53-459a-8c54-1634b4aaaa92",
   "metadata": {},
   "source": [
    "## Q6. Write a Python function that takes in the degrees of freedom for the numerator and denominator of an F-distribution and calculates the mean and variance of the distribution. The function should return the mean and variance as a tuple."
   ]
  },
  {
   "cell_type": "code",
   "execution_count": 15,
   "id": "dc671f10-9635-40a3-bb5e-6592cd62b1ce",
   "metadata": {},
   "outputs": [
    {
     "name": "stdout",
     "output_type": "stream",
     "text": [
      "(1.3333333333333333, 0.7142857142857143)\n",
      "<class 'tuple'>\n"
     ]
    }
   ],
   "source": [
    "def f_mean_var(dof_num, dof_den):\n",
    "    \n",
    "    f_value = dof_num/dof_den\n",
    "    \n",
    "    if dof_den > 2:\n",
    "        mean = dof_den/(dof_den - 2)\n",
    "    else:\n",
    "        print('Mean is undefined for degree of freedom of denominator less than or equal to 2')\n",
    "        \n",
    "        \n",
    "    if dof_den > 4:\n",
    "        variance = (2 * (dof_den^2 * (dof_den + dof_den - 2))) / (dof_den * (dof_den - 2)^2 * (dof_den - 4))\n",
    "    else:\n",
    "        print('Variance is undefined for degree of freedom of denominator less than or equal to 4')\n",
    "    \n",
    "    return (mean, variance)\n",
    "\n",
    "mean_var = f_mean_var(5,8)\n",
    "print(mean_var)\n",
    "print(type(mean_var))\n"
   ]
  },
  {
   "cell_type": "markdown",
   "id": "c88b3aef-f626-435b-a1cd-6c0065ffe8d7",
   "metadata": {},
   "source": [
    "## Q7. A random sample of 10 measurements is taken from a normal population with unknown variance. The sample variance is found to be 25. Another random sample of 15 measurements is taken from another normal population with unknown variance, and the sample variance is found to be 20. Conduct an F-test at the 10% significance level to determine if the variances are significantly different.\n"
   ]
  },
  {
   "cell_type": "code",
   "execution_count": 16,
   "id": "339a8d8e-b319-4371-82cb-607567232cd6",
   "metadata": {},
   "outputs": [
    {
     "name": "stdout",
     "output_type": "stream",
     "text": [
      "F Value is: 1.25\n",
      "Critical Value is: 3.178893104458269\n",
      "Fail to reject null hypothesis, H1: Variance of both groups are not equal\n"
     ]
    }
   ],
   "source": [
    "import numpy as np\n",
    "import scipy.stats as stats\n",
    "\n",
    "sample_size_1 = 10\n",
    "sample_size_2 = 15\n",
    "\n",
    "sample_1_var = 25\n",
    "sample_2_var =20\n",
    "\n",
    "significance_level = 0.1\n",
    "dof1 = sample_size_1 - 1\n",
    "dof2 = sample_size_2 -1\n",
    "\n",
    "# H0: Variance of both groups are equal\n",
    "# H1: Variance of both groups are not equal\n",
    "\n",
    "f_value = sample_1_var/sample_2_var\n",
    "critical_value = stats.f.ppf(q = (1-significance_level/2), dfn = dof1, dfd = dof1)\n",
    "\n",
    "print(f\"F Value is: {f_value}\")\n",
    "print(f\"Critical Value is: {critical_value}\")\n",
    "if f_value > critical_value:\n",
    "    print('Reject Null Hupothesis, H0: Variance of both groups are equal')\n",
    "else:\n",
    "    print('Fail to reject null hypothesis, H1: Variance of both groups are not equal')"
   ]
  },
  {
   "cell_type": "markdown",
   "id": "c8497aa2-f3fe-44d1-a853-cd679aac910e",
   "metadata": {},
   "source": [
    "## Q8. The following data represent the waiting times in minutes at two different restaurants on a Saturday night: Restaurant A: 24, 25, 28, 23, 22, 20, 27; Restaurant B: 31, 33, 35, 30, 32, 36. Conduct an F-test at the 5% significance level to determine if the variances are significantly different."
   ]
  },
  {
   "cell_type": "code",
   "execution_count": 17,
   "id": "cbc41fa8-6bb2-4c62-a174-727b9ba8fc39",
   "metadata": {},
   "outputs": [
    {
     "name": "stdout",
     "output_type": "stream",
     "text": [
      "F Value is: 1.496767651159843\n",
      "Critical Value is: 5.819756578960778\n",
      "Fail to reject null hypothesis, H1: Variance of both groups are not equal\n"
     ]
    }
   ],
   "source": [
    "import numpy as np\n",
    "import scipy.stats as stats\n",
    "\n",
    "Restaurant_A = [24, 25, 28, 23, 22, 20, 27]\n",
    "Restaurant_B = [31, 33, 35, 30, 32, 36]\n",
    "significance_level = 0.05\n",
    "\n",
    "dof1 = len(Restaurant_A) - 1\n",
    "dof2 = len(Restaurant_B) - 2\n",
    "\n",
    "# H0: Variance of both groups are equal\n",
    "# H1: Variance of both groups are not equal\n",
    "\n",
    "f_value = np.var(Restaurant_A)/np.var(Restaurant_B)\n",
    "critical_value = stats.f.ppf(q = (1-significance_level/2), dfn = dof1, dfd = dof1)\n",
    "\n",
    "print(f\"F Value is: {f_value}\")\n",
    "print(f\"Critical Value is: {critical_value}\")\n",
    "if f_value > critical_value:\n",
    "    print('Reject Null Hupothesis, H0: Variance of both groups are equal')\n",
    "else:\n",
    "    print('Fail to reject null hypothesis, H1: Variance of both groups are not equal')"
   ]
  },
  {
   "cell_type": "markdown",
   "id": "30d1f15b-37e0-484f-8eff-bc3c83a83762",
   "metadata": {},
   "source": [
    "## Q9. The following data represent the test scores of two groups of students: Group A: 80, 85, 90, 92, 87, 83; Group B: 75, 78, 82, 79, 81, 84. Conduct an F-test at the 1% significance level to determine if the variances are significantly different."
   ]
  },
  {
   "cell_type": "code",
   "execution_count": 18,
   "id": "96ad3af9-d7da-4d0b-b840-2023092d8632",
   "metadata": {},
   "outputs": [
    {
     "name": "stdout",
     "output_type": "stream",
     "text": [
      "F Value is: 1.9442622950819677\n",
      "Critical Value is: 14.939605459912224\n",
      "Fail to reject null hypothesis, H1: Variance of both groups are not equal\n"
     ]
    }
   ],
   "source": [
    "import numpy as np\n",
    "import scipy.stats as stats\n",
    "\n",
    "Group_A = [80, 85, 90, 92, 87, 83]\n",
    "Group_B = [75, 78, 82, 79, 81, 84]\n",
    "significance_level = 0.01\n",
    "dof1 = len(Group_A) - 1\n",
    "dof2 = len(Group_B) - 1\n",
    "\n",
    "# H0: Variance of both groups are equal\n",
    "# H1: Variance of both groups are not equal\n",
    "\n",
    "f_value = np.var(Group_A)/np.var(Group_B)\n",
    "critical_value = stats.f.ppf(q = (1-significance_level/2), dfn = dof1, dfd = dof2)\n",
    "\n",
    "print(f\"F Value is: {f_value}\")\n",
    "print(f\"Critical Value is: {critical_value}\")\n",
    "\n",
    "if f_value > critical_value:\n",
    "    print('Reject Null Hupothesis, H0: Variance of both groups are equal')\n",
    "else:\n",
    "    print('Fail to reject null hypothesis, H1: Variance of both groups are not equal')"
   ]
  },
  {
   "cell_type": "code",
   "execution_count": null,
   "id": "79a6dab4-9735-4bd0-b05f-f8f4dee04aec",
   "metadata": {},
   "outputs": [],
   "source": []
  },
  {
   "cell_type": "code",
   "execution_count": null,
   "id": "a1553ddb-102f-460c-a084-213853bd81a9",
   "metadata": {},
   "outputs": [],
   "source": []
  },
  {
   "cell_type": "code",
   "execution_count": null,
   "id": "d3994e9e-e973-4762-bb30-ffd61f7fc313",
   "metadata": {},
   "outputs": [],
   "source": []
  },
  {
   "cell_type": "code",
   "execution_count": null,
   "id": "4d29675a-2f57-4b77-a723-d7453ef0db60",
   "metadata": {},
   "outputs": [],
   "source": []
  },
  {
   "cell_type": "code",
   "execution_count": null,
   "id": "1aa4c110-0920-49e3-8d5a-6f7ca3c7dcf6",
   "metadata": {},
   "outputs": [],
   "source": []
  }
 ],
 "metadata": {
  "kernelspec": {
   "display_name": "Python 3 (ipykernel)",
   "language": "python",
   "name": "python3"
  },
  "language_info": {
   "codemirror_mode": {
    "name": "ipython",
    "version": 3
   },
   "file_extension": ".py",
   "mimetype": "text/x-python",
   "name": "python",
   "nbconvert_exporter": "python",
   "pygments_lexer": "ipython3",
   "version": "3.10.8"
  }
 },
 "nbformat": 4,
 "nbformat_minor": 5
}
